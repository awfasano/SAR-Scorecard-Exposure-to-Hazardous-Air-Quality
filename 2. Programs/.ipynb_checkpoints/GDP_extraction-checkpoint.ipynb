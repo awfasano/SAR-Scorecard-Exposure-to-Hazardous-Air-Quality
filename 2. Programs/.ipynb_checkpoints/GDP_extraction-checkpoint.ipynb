{
 "cells": [
  {
   "cell_type": "code",
   "execution_count": 7,
   "id": "2148a360",
   "metadata": {
    "scrolled": true
   },
   "outputs": [
    {
     "name": "stdout",
     "output_type": "stream",
     "text": [
      "Processing year 2010 using band 21...\n"
     ]
    },
    {
     "name": "stderr",
     "output_type": "stream",
     "text": [
      "C:\\Users\\vgald\\AppData\\Local\\Temp\\ipykernel_5604\\4144164367.py:55: UserWarning: Geometry is in a geographic CRS. Results from 'area' are likely incorrect. Use 'GeoSeries.to_crs()' to re-project geometries to a projected CRS before this operation.\n",
      "\n",
      "  intersections['intersection_area'] = intersections.geometry.area\n"
     ]
    },
    {
     "name": "stdout",
     "output_type": "stream",
     "text": [
      "Full dataset saved to C:\\Users\\vgald\\OneDrive\\Desktop\\SAR_DATA\\3. Output\\GDP\\gdp_by_admin0_full_2010.csv\n",
      "Aggregated dataset saved to C:\\Users\\vgald\\OneDrive\\Desktop\\SAR_DATA\\3. Output\\GDP\\gdp_by_admin0_aggregated_2010.csv\n",
      "Processing year 2011 using band 22...\n"
     ]
    },
    {
     "name": "stderr",
     "output_type": "stream",
     "text": [
      "C:\\Users\\vgald\\AppData\\Local\\Temp\\ipykernel_5604\\4144164367.py:55: UserWarning: Geometry is in a geographic CRS. Results from 'area' are likely incorrect. Use 'GeoSeries.to_crs()' to re-project geometries to a projected CRS before this operation.\n",
      "\n",
      "  intersections['intersection_area'] = intersections.geometry.area\n"
     ]
    },
    {
     "name": "stdout",
     "output_type": "stream",
     "text": [
      "Full dataset saved to C:\\Users\\vgald\\OneDrive\\Desktop\\SAR_DATA\\3. Output\\GDP\\gdp_by_admin0_full_2011.csv\n",
      "Aggregated dataset saved to C:\\Users\\vgald\\OneDrive\\Desktop\\SAR_DATA\\3. Output\\GDP\\gdp_by_admin0_aggregated_2011.csv\n",
      "Processing year 2012 using band 23...\n"
     ]
    },
    {
     "name": "stderr",
     "output_type": "stream",
     "text": [
      "C:\\Users\\vgald\\AppData\\Local\\Temp\\ipykernel_5604\\4144164367.py:55: UserWarning: Geometry is in a geographic CRS. Results from 'area' are likely incorrect. Use 'GeoSeries.to_crs()' to re-project geometries to a projected CRS before this operation.\n",
      "\n",
      "  intersections['intersection_area'] = intersections.geometry.area\n"
     ]
    },
    {
     "name": "stdout",
     "output_type": "stream",
     "text": [
      "Full dataset saved to C:\\Users\\vgald\\OneDrive\\Desktop\\SAR_DATA\\3. Output\\GDP\\gdp_by_admin0_full_2012.csv\n",
      "Aggregated dataset saved to C:\\Users\\vgald\\OneDrive\\Desktop\\SAR_DATA\\3. Output\\GDP\\gdp_by_admin0_aggregated_2012.csv\n",
      "Processing year 2013 using band 24...\n"
     ]
    },
    {
     "name": "stderr",
     "output_type": "stream",
     "text": [
      "C:\\Users\\vgald\\AppData\\Local\\Temp\\ipykernel_5604\\4144164367.py:55: UserWarning: Geometry is in a geographic CRS. Results from 'area' are likely incorrect. Use 'GeoSeries.to_crs()' to re-project geometries to a projected CRS before this operation.\n",
      "\n",
      "  intersections['intersection_area'] = intersections.geometry.area\n"
     ]
    },
    {
     "name": "stdout",
     "output_type": "stream",
     "text": [
      "Full dataset saved to C:\\Users\\vgald\\OneDrive\\Desktop\\SAR_DATA\\3. Output\\GDP\\gdp_by_admin0_full_2013.csv\n",
      "Aggregated dataset saved to C:\\Users\\vgald\\OneDrive\\Desktop\\SAR_DATA\\3. Output\\GDP\\gdp_by_admin0_aggregated_2013.csv\n",
      "Processing year 2014 using band 25...\n"
     ]
    },
    {
     "name": "stderr",
     "output_type": "stream",
     "text": [
      "C:\\Users\\vgald\\AppData\\Local\\Temp\\ipykernel_5604\\4144164367.py:55: UserWarning: Geometry is in a geographic CRS. Results from 'area' are likely incorrect. Use 'GeoSeries.to_crs()' to re-project geometries to a projected CRS before this operation.\n",
      "\n",
      "  intersections['intersection_area'] = intersections.geometry.area\n"
     ]
    },
    {
     "name": "stdout",
     "output_type": "stream",
     "text": [
      "Full dataset saved to C:\\Users\\vgald\\OneDrive\\Desktop\\SAR_DATA\\3. Output\\GDP\\gdp_by_admin0_full_2014.csv\n",
      "Aggregated dataset saved to C:\\Users\\vgald\\OneDrive\\Desktop\\SAR_DATA\\3. Output\\GDP\\gdp_by_admin0_aggregated_2014.csv\n",
      "Processing year 2015 using band 26...\n"
     ]
    },
    {
     "name": "stderr",
     "output_type": "stream",
     "text": [
      "C:\\Users\\vgald\\AppData\\Local\\Temp\\ipykernel_5604\\4144164367.py:55: UserWarning: Geometry is in a geographic CRS. Results from 'area' are likely incorrect. Use 'GeoSeries.to_crs()' to re-project geometries to a projected CRS before this operation.\n",
      "\n",
      "  intersections['intersection_area'] = intersections.geometry.area\n"
     ]
    },
    {
     "name": "stdout",
     "output_type": "stream",
     "text": [
      "Full dataset saved to C:\\Users\\vgald\\OneDrive\\Desktop\\SAR_DATA\\3. Output\\GDP\\gdp_by_admin0_full_2015.csv\n",
      "Aggregated dataset saved to C:\\Users\\vgald\\OneDrive\\Desktop\\SAR_DATA\\3. Output\\GDP\\gdp_by_admin0_aggregated_2015.csv\n",
      "Processing year 2016 using band 27...\n"
     ]
    },
    {
     "name": "stderr",
     "output_type": "stream",
     "text": [
      "C:\\Users\\vgald\\AppData\\Local\\Temp\\ipykernel_5604\\4144164367.py:55: UserWarning: Geometry is in a geographic CRS. Results from 'area' are likely incorrect. Use 'GeoSeries.to_crs()' to re-project geometries to a projected CRS before this operation.\n",
      "\n",
      "  intersections['intersection_area'] = intersections.geometry.area\n"
     ]
    },
    {
     "name": "stdout",
     "output_type": "stream",
     "text": [
      "Full dataset saved to C:\\Users\\vgald\\OneDrive\\Desktop\\SAR_DATA\\3. Output\\GDP\\gdp_by_admin0_full_2016.csv\n",
      "Aggregated dataset saved to C:\\Users\\vgald\\OneDrive\\Desktop\\SAR_DATA\\3. Output\\GDP\\gdp_by_admin0_aggregated_2016.csv\n",
      "Processing year 2017 using band 28...\n"
     ]
    },
    {
     "name": "stderr",
     "output_type": "stream",
     "text": [
      "C:\\Users\\vgald\\AppData\\Local\\Temp\\ipykernel_5604\\4144164367.py:55: UserWarning: Geometry is in a geographic CRS. Results from 'area' are likely incorrect. Use 'GeoSeries.to_crs()' to re-project geometries to a projected CRS before this operation.\n",
      "\n",
      "  intersections['intersection_area'] = intersections.geometry.area\n"
     ]
    },
    {
     "name": "stdout",
     "output_type": "stream",
     "text": [
      "Full dataset saved to C:\\Users\\vgald\\OneDrive\\Desktop\\SAR_DATA\\3. Output\\GDP\\gdp_by_admin0_full_2017.csv\n",
      "Aggregated dataset saved to C:\\Users\\vgald\\OneDrive\\Desktop\\SAR_DATA\\3. Output\\GDP\\gdp_by_admin0_aggregated_2017.csv\n",
      "Processing year 2018 using band 29...\n"
     ]
    },
    {
     "name": "stderr",
     "output_type": "stream",
     "text": [
      "C:\\Users\\vgald\\AppData\\Local\\Temp\\ipykernel_5604\\4144164367.py:55: UserWarning: Geometry is in a geographic CRS. Results from 'area' are likely incorrect. Use 'GeoSeries.to_crs()' to re-project geometries to a projected CRS before this operation.\n",
      "\n",
      "  intersections['intersection_area'] = intersections.geometry.area\n"
     ]
    },
    {
     "name": "stdout",
     "output_type": "stream",
     "text": [
      "Full dataset saved to C:\\Users\\vgald\\OneDrive\\Desktop\\SAR_DATA\\3. Output\\GDP\\gdp_by_admin0_full_2018.csv\n",
      "Aggregated dataset saved to C:\\Users\\vgald\\OneDrive\\Desktop\\SAR_DATA\\3. Output\\GDP\\gdp_by_admin0_aggregated_2018.csv\n",
      "Processing year 2019 using band 30...\n"
     ]
    },
    {
     "name": "stderr",
     "output_type": "stream",
     "text": [
      "C:\\Users\\vgald\\AppData\\Local\\Temp\\ipykernel_5604\\4144164367.py:55: UserWarning: Geometry is in a geographic CRS. Results from 'area' are likely incorrect. Use 'GeoSeries.to_crs()' to re-project geometries to a projected CRS before this operation.\n",
      "\n",
      "  intersections['intersection_area'] = intersections.geometry.area\n"
     ]
    },
    {
     "name": "stdout",
     "output_type": "stream",
     "text": [
      "Full dataset saved to C:\\Users\\vgald\\OneDrive\\Desktop\\SAR_DATA\\3. Output\\GDP\\gdp_by_admin0_full_2019.csv\n",
      "Aggregated dataset saved to C:\\Users\\vgald\\OneDrive\\Desktop\\SAR_DATA\\3. Output\\GDP\\gdp_by_admin0_aggregated_2019.csv\n",
      "Processing year 2020 using band 31...\n"
     ]
    },
    {
     "name": "stderr",
     "output_type": "stream",
     "text": [
      "C:\\Users\\vgald\\AppData\\Local\\Temp\\ipykernel_5604\\4144164367.py:55: UserWarning: Geometry is in a geographic CRS. Results from 'area' are likely incorrect. Use 'GeoSeries.to_crs()' to re-project geometries to a projected CRS before this operation.\n",
      "\n",
      "  intersections['intersection_area'] = intersections.geometry.area\n"
     ]
    },
    {
     "name": "stdout",
     "output_type": "stream",
     "text": [
      "Full dataset saved to C:\\Users\\vgald\\OneDrive\\Desktop\\SAR_DATA\\3. Output\\GDP\\gdp_by_admin0_full_2020.csv\n",
      "Aggregated dataset saved to C:\\Users\\vgald\\OneDrive\\Desktop\\SAR_DATA\\3. Output\\GDP\\gdp_by_admin0_aggregated_2020.csv\n",
      "Processing year 2021 using band 32...\n"
     ]
    },
    {
     "name": "stderr",
     "output_type": "stream",
     "text": [
      "C:\\Users\\vgald\\AppData\\Local\\Temp\\ipykernel_5604\\4144164367.py:55: UserWarning: Geometry is in a geographic CRS. Results from 'area' are likely incorrect. Use 'GeoSeries.to_crs()' to re-project geometries to a projected CRS before this operation.\n",
      "\n",
      "  intersections['intersection_area'] = intersections.geometry.area\n"
     ]
    },
    {
     "name": "stdout",
     "output_type": "stream",
     "text": [
      "Full dataset saved to C:\\Users\\vgald\\OneDrive\\Desktop\\SAR_DATA\\3. Output\\GDP\\gdp_by_admin0_full_2021.csv\n",
      "Aggregated dataset saved to C:\\Users\\vgald\\OneDrive\\Desktop\\SAR_DATA\\3. Output\\GDP\\gdp_by_admin0_aggregated_2021.csv\n",
      "Processing year 2022 using band 33...\n"
     ]
    },
    {
     "name": "stderr",
     "output_type": "stream",
     "text": [
      "C:\\Users\\vgald\\AppData\\Local\\Temp\\ipykernel_5604\\4144164367.py:55: UserWarning: Geometry is in a geographic CRS. Results from 'area' are likely incorrect. Use 'GeoSeries.to_crs()' to re-project geometries to a projected CRS before this operation.\n",
      "\n",
      "  intersections['intersection_area'] = intersections.geometry.area\n"
     ]
    },
    {
     "name": "stdout",
     "output_type": "stream",
     "text": [
      "Full dataset saved to C:\\Users\\vgald\\OneDrive\\Desktop\\SAR_DATA\\3. Output\\GDP\\gdp_by_admin0_full_2022.csv\n",
      "Aggregated dataset saved to C:\\Users\\vgald\\OneDrive\\Desktop\\SAR_DATA\\3. Output\\GDP\\gdp_by_admin0_aggregated_2022.csv\n"
     ]
    }
   ],
   "source": [
    "import rasterio\n",
    "import geopandas as gpd\n",
    "import numpy as np\n",
    "import pandas as pd\n",
    "from shapely.geometry import box\n",
    "\n",
    "# File paths (adjust path)\n",
    "raster_path = r\"C:\\Users\\vgald\\OneDrive\\Desktop\\SAR_DATA\\1. Data\\GDP\\rast_gdpTot_1990_2022_5arcmin.tif\"\n",
    "shapefile_path = r\"C:\\Users\\vgald\\OneDrive\\Desktop\\SAR_DATA\\1. Data\\Shapefile\\WB_GAD\\WB_GAD_ADM0_SAR_Clean.shp\"\n",
    "\n",
    "# Load shapefile\n",
    "shp_df = gpd.read_file(shapefile_path)\n",
    "shp_df = shp_df.to_crs(\"EPSG:4326\")  # Ensure it's in WGS84\n",
    "\n",
    "# Years to process\n",
    "years = ['2010', '2011', '2012', '2013', '2014', '2015',\n",
    "         '2016', '2017', '2018', '2019', '2020', '2021', '2022']\n",
    "\n",
    "# Function to convert raster to polygon grid\n",
    "\n",
    "def raster_to_polygons(src, data, transform):\n",
    "    polygons = []\n",
    "    values = []\n",
    "    areas = []\n",
    "    height, width = data.shape\n",
    "    res_x, res_y = src.res\n",
    "    for row in range(height):\n",
    "        for col in range(width):\n",
    "            val = data[row, col]\n",
    "            if not np.ma.is_masked(val):\n",
    "                x, y = transform * (col, row)\n",
    "                poly = box(x, y - res_y, x + res_x, y)\n",
    "                polygons.append(poly)\n",
    "                values.append(val)\n",
    "                areas.append(poly.area)  # Store cell area\n",
    "    return gpd.GeoDataFrame({'gdp': values, 'cell_area': areas, 'geometry': polygons}, crs=src.crs)\n",
    "\n",
    "# Loop over years\n",
    "for year in years:\n",
    "    with rasterio.open(raster_path) as src:\n",
    "        band_idx = int(year) - 1990 + 1  # Direct band index from year\n",
    "        print(f\"Processing year {year} using band {band_idx}...\")\n",
    "\n",
    "        # Read GDP band and transform\n",
    "        gdp_band = src.read(band_idx, masked=True)\n",
    "        transform = src.transform\n",
    "\n",
    "        # Convert raster to vector grid\n",
    "        gdf_raster = raster_to_polygons(src, gdp_band, transform)\n",
    "\n",
    "        # Intersect with admin polygons\n",
    "        intersections = gpd.overlay(gdf_raster, shp_df, how='intersection')\n",
    "\n",
    "         # After intersecting GDP pixels with admin polygons\n",
    "        intersections['intersection_area'] = intersections.geometry.area\n",
    "        intersections['gdp_weighted']= (intersections['gdp'] * (intersections['intersection_area'] / intersections['cell_area'])\n",
    ")\n",
    "        \n",
    "        # Aggregate GDP by globalid\n",
    "        grouped = intersections.groupby('globalid').agg({\n",
    "            'gdp_weighted': 'sum'\n",
    "        }).reset_index().rename(columns={'gdp_weighted': 'total_gdp'})\n",
    "        grouped['total_gdp'] = grouped['total_gdp'] / 1e6\n",
    "        grouped['year'] = year\n",
    "        grouped['geo_level'] = 0\n",
    "\n",
    "        # Merge and save\n",
    "        merged_df = shp_df.merge(grouped, on='globalid', how='left')\n",
    "        merged_df = merged_df.drop(columns=['geometry'], errors='ignore')\n",
    "\n",
    "        output_csv_full = rf\"C:\\Users\\vgald\\OneDrive\\Desktop\\SAR_DATA\\3. Output\\GDP\\gdp_by_admin0_full_{year}.csv\"\n",
    "        output_csv_agg = rf\"C:\\Users\\vgald\\OneDrive\\Desktop\\SAR_DATA\\3. Output\\GDP\\gdp_by_admin0_aggregated_{year}.csv\"\n",
    "\n",
    "        merged_df.to_csv(output_csv_full, index=False)\n",
    "        print(f\"Full dataset saved to {output_csv_full}\")\n",
    "\n",
    "        agg_df = merged_df.groupby(['L0_CODE']).agg({\n",
    "            'L0_NAME': 'first',\n",
    "            'total_gdp': 'sum',\n",
    "            'geo_level': 'first',\n",
    "            'wb_status': 'first',\n",
    "            'sovereign': 'first',\n",
    "            'Disputed': 'first',\n",
    "            'year': 'first'\n",
    "        }).reset_index()\n",
    "\n",
    "        agg_df.to_csv(output_csv_agg, index=False)\n",
    "        print(f\"Aggregated dataset saved to {output_csv_agg}\")"
   ]
  },
  {
   "cell_type": "code",
   "execution_count": 8,
   "id": "95a4c759",
   "metadata": {},
   "outputs": [
    {
     "name": "stdout",
     "output_type": "stream",
     "text": [
      "Processing year 2010 (Band 21)...\n"
     ]
    },
    {
     "name": "stderr",
     "output_type": "stream",
     "text": [
      "C:\\Users\\vgald\\AppData\\Local\\Temp\\ipykernel_5604\\436231564.py:53: UserWarning: Geometry is in a geographic CRS. Results from 'area' are likely incorrect. Use 'GeoSeries.to_crs()' to re-project geometries to a projected CRS before this operation.\n",
      "\n",
      "  intersections['intersection_area'] = intersections.geometry.area\n"
     ]
    },
    {
     "name": "stdout",
     "output_type": "stream",
     "text": [
      "Full dataset saved to C:\\Users\\vgald\\OneDrive\\Desktop\\SAR_DATA\\3. Output\\GDP\\gdp_by_admin1_full_2010.csv\n",
      "Aggregated dataset saved to C:\\Users\\vgald\\OneDrive\\Desktop\\SAR_DATA\\3. Output\\GDP\\gdp_by_admin1_aggregated_2010.csv\n",
      "Processing year 2011 (Band 22)...\n"
     ]
    },
    {
     "name": "stderr",
     "output_type": "stream",
     "text": [
      "C:\\Users\\vgald\\AppData\\Local\\Temp\\ipykernel_5604\\436231564.py:53: UserWarning: Geometry is in a geographic CRS. Results from 'area' are likely incorrect. Use 'GeoSeries.to_crs()' to re-project geometries to a projected CRS before this operation.\n",
      "\n",
      "  intersections['intersection_area'] = intersections.geometry.area\n"
     ]
    },
    {
     "name": "stdout",
     "output_type": "stream",
     "text": [
      "Full dataset saved to C:\\Users\\vgald\\OneDrive\\Desktop\\SAR_DATA\\3. Output\\GDP\\gdp_by_admin1_full_2011.csv\n",
      "Aggregated dataset saved to C:\\Users\\vgald\\OneDrive\\Desktop\\SAR_DATA\\3. Output\\GDP\\gdp_by_admin1_aggregated_2011.csv\n",
      "Processing year 2012 (Band 23)...\n"
     ]
    },
    {
     "name": "stderr",
     "output_type": "stream",
     "text": [
      "C:\\Users\\vgald\\AppData\\Local\\Temp\\ipykernel_5604\\436231564.py:53: UserWarning: Geometry is in a geographic CRS. Results from 'area' are likely incorrect. Use 'GeoSeries.to_crs()' to re-project geometries to a projected CRS before this operation.\n",
      "\n",
      "  intersections['intersection_area'] = intersections.geometry.area\n"
     ]
    },
    {
     "name": "stdout",
     "output_type": "stream",
     "text": [
      "Full dataset saved to C:\\Users\\vgald\\OneDrive\\Desktop\\SAR_DATA\\3. Output\\GDP\\gdp_by_admin1_full_2012.csv\n",
      "Aggregated dataset saved to C:\\Users\\vgald\\OneDrive\\Desktop\\SAR_DATA\\3. Output\\GDP\\gdp_by_admin1_aggregated_2012.csv\n",
      "Processing year 2013 (Band 24)...\n"
     ]
    },
    {
     "name": "stderr",
     "output_type": "stream",
     "text": [
      "C:\\Users\\vgald\\AppData\\Local\\Temp\\ipykernel_5604\\436231564.py:53: UserWarning: Geometry is in a geographic CRS. Results from 'area' are likely incorrect. Use 'GeoSeries.to_crs()' to re-project geometries to a projected CRS before this operation.\n",
      "\n",
      "  intersections['intersection_area'] = intersections.geometry.area\n"
     ]
    },
    {
     "name": "stdout",
     "output_type": "stream",
     "text": [
      "Full dataset saved to C:\\Users\\vgald\\OneDrive\\Desktop\\SAR_DATA\\3. Output\\GDP\\gdp_by_admin1_full_2013.csv\n",
      "Aggregated dataset saved to C:\\Users\\vgald\\OneDrive\\Desktop\\SAR_DATA\\3. Output\\GDP\\gdp_by_admin1_aggregated_2013.csv\n",
      "Processing year 2014 (Band 25)...\n"
     ]
    },
    {
     "name": "stderr",
     "output_type": "stream",
     "text": [
      "C:\\Users\\vgald\\AppData\\Local\\Temp\\ipykernel_5604\\436231564.py:53: UserWarning: Geometry is in a geographic CRS. Results from 'area' are likely incorrect. Use 'GeoSeries.to_crs()' to re-project geometries to a projected CRS before this operation.\n",
      "\n",
      "  intersections['intersection_area'] = intersections.geometry.area\n"
     ]
    },
    {
     "name": "stdout",
     "output_type": "stream",
     "text": [
      "Full dataset saved to C:\\Users\\vgald\\OneDrive\\Desktop\\SAR_DATA\\3. Output\\GDP\\gdp_by_admin1_full_2014.csv\n",
      "Aggregated dataset saved to C:\\Users\\vgald\\OneDrive\\Desktop\\SAR_DATA\\3. Output\\GDP\\gdp_by_admin1_aggregated_2014.csv\n",
      "Processing year 2015 (Band 26)...\n"
     ]
    },
    {
     "name": "stderr",
     "output_type": "stream",
     "text": [
      "C:\\Users\\vgald\\AppData\\Local\\Temp\\ipykernel_5604\\436231564.py:53: UserWarning: Geometry is in a geographic CRS. Results from 'area' are likely incorrect. Use 'GeoSeries.to_crs()' to re-project geometries to a projected CRS before this operation.\n",
      "\n",
      "  intersections['intersection_area'] = intersections.geometry.area\n"
     ]
    },
    {
     "name": "stdout",
     "output_type": "stream",
     "text": [
      "Full dataset saved to C:\\Users\\vgald\\OneDrive\\Desktop\\SAR_DATA\\3. Output\\GDP\\gdp_by_admin1_full_2015.csv\n",
      "Aggregated dataset saved to C:\\Users\\vgald\\OneDrive\\Desktop\\SAR_DATA\\3. Output\\GDP\\gdp_by_admin1_aggregated_2015.csv\n",
      "Processing year 2016 (Band 27)...\n"
     ]
    },
    {
     "name": "stderr",
     "output_type": "stream",
     "text": [
      "C:\\Users\\vgald\\AppData\\Local\\Temp\\ipykernel_5604\\436231564.py:53: UserWarning: Geometry is in a geographic CRS. Results from 'area' are likely incorrect. Use 'GeoSeries.to_crs()' to re-project geometries to a projected CRS before this operation.\n",
      "\n",
      "  intersections['intersection_area'] = intersections.geometry.area\n"
     ]
    },
    {
     "name": "stdout",
     "output_type": "stream",
     "text": [
      "Full dataset saved to C:\\Users\\vgald\\OneDrive\\Desktop\\SAR_DATA\\3. Output\\GDP\\gdp_by_admin1_full_2016.csv\n",
      "Aggregated dataset saved to C:\\Users\\vgald\\OneDrive\\Desktop\\SAR_DATA\\3. Output\\GDP\\gdp_by_admin1_aggregated_2016.csv\n",
      "Processing year 2017 (Band 28)...\n"
     ]
    },
    {
     "name": "stderr",
     "output_type": "stream",
     "text": [
      "C:\\Users\\vgald\\AppData\\Local\\Temp\\ipykernel_5604\\436231564.py:53: UserWarning: Geometry is in a geographic CRS. Results from 'area' are likely incorrect. Use 'GeoSeries.to_crs()' to re-project geometries to a projected CRS before this operation.\n",
      "\n",
      "  intersections['intersection_area'] = intersections.geometry.area\n"
     ]
    },
    {
     "name": "stdout",
     "output_type": "stream",
     "text": [
      "Full dataset saved to C:\\Users\\vgald\\OneDrive\\Desktop\\SAR_DATA\\3. Output\\GDP\\gdp_by_admin1_full_2017.csv\n",
      "Aggregated dataset saved to C:\\Users\\vgald\\OneDrive\\Desktop\\SAR_DATA\\3. Output\\GDP\\gdp_by_admin1_aggregated_2017.csv\n",
      "Processing year 2018 (Band 29)...\n"
     ]
    },
    {
     "name": "stderr",
     "output_type": "stream",
     "text": [
      "C:\\Users\\vgald\\AppData\\Local\\Temp\\ipykernel_5604\\436231564.py:53: UserWarning: Geometry is in a geographic CRS. Results from 'area' are likely incorrect. Use 'GeoSeries.to_crs()' to re-project geometries to a projected CRS before this operation.\n",
      "\n",
      "  intersections['intersection_area'] = intersections.geometry.area\n"
     ]
    },
    {
     "name": "stdout",
     "output_type": "stream",
     "text": [
      "Full dataset saved to C:\\Users\\vgald\\OneDrive\\Desktop\\SAR_DATA\\3. Output\\GDP\\gdp_by_admin1_full_2018.csv\n",
      "Aggregated dataset saved to C:\\Users\\vgald\\OneDrive\\Desktop\\SAR_DATA\\3. Output\\GDP\\gdp_by_admin1_aggregated_2018.csv\n",
      "Processing year 2019 (Band 30)...\n"
     ]
    },
    {
     "name": "stderr",
     "output_type": "stream",
     "text": [
      "C:\\Users\\vgald\\AppData\\Local\\Temp\\ipykernel_5604\\436231564.py:53: UserWarning: Geometry is in a geographic CRS. Results from 'area' are likely incorrect. Use 'GeoSeries.to_crs()' to re-project geometries to a projected CRS before this operation.\n",
      "\n",
      "  intersections['intersection_area'] = intersections.geometry.area\n"
     ]
    },
    {
     "name": "stdout",
     "output_type": "stream",
     "text": [
      "Full dataset saved to C:\\Users\\vgald\\OneDrive\\Desktop\\SAR_DATA\\3. Output\\GDP\\gdp_by_admin1_full_2019.csv\n",
      "Aggregated dataset saved to C:\\Users\\vgald\\OneDrive\\Desktop\\SAR_DATA\\3. Output\\GDP\\gdp_by_admin1_aggregated_2019.csv\n",
      "Processing year 2020 (Band 31)...\n"
     ]
    },
    {
     "name": "stderr",
     "output_type": "stream",
     "text": [
      "C:\\Users\\vgald\\AppData\\Local\\Temp\\ipykernel_5604\\436231564.py:53: UserWarning: Geometry is in a geographic CRS. Results from 'area' are likely incorrect. Use 'GeoSeries.to_crs()' to re-project geometries to a projected CRS before this operation.\n",
      "\n",
      "  intersections['intersection_area'] = intersections.geometry.area\n"
     ]
    },
    {
     "name": "stdout",
     "output_type": "stream",
     "text": [
      "Full dataset saved to C:\\Users\\vgald\\OneDrive\\Desktop\\SAR_DATA\\3. Output\\GDP\\gdp_by_admin1_full_2020.csv\n",
      "Aggregated dataset saved to C:\\Users\\vgald\\OneDrive\\Desktop\\SAR_DATA\\3. Output\\GDP\\gdp_by_admin1_aggregated_2020.csv\n",
      "Processing year 2021 (Band 32)...\n"
     ]
    },
    {
     "name": "stderr",
     "output_type": "stream",
     "text": [
      "C:\\Users\\vgald\\AppData\\Local\\Temp\\ipykernel_5604\\436231564.py:53: UserWarning: Geometry is in a geographic CRS. Results from 'area' are likely incorrect. Use 'GeoSeries.to_crs()' to re-project geometries to a projected CRS before this operation.\n",
      "\n",
      "  intersections['intersection_area'] = intersections.geometry.area\n"
     ]
    },
    {
     "name": "stdout",
     "output_type": "stream",
     "text": [
      "Full dataset saved to C:\\Users\\vgald\\OneDrive\\Desktop\\SAR_DATA\\3. Output\\GDP\\gdp_by_admin1_full_2021.csv\n",
      "Aggregated dataset saved to C:\\Users\\vgald\\OneDrive\\Desktop\\SAR_DATA\\3. Output\\GDP\\gdp_by_admin1_aggregated_2021.csv\n",
      "Processing year 2022 (Band 33)...\n"
     ]
    },
    {
     "name": "stderr",
     "output_type": "stream",
     "text": [
      "C:\\Users\\vgald\\AppData\\Local\\Temp\\ipykernel_5604\\436231564.py:53: UserWarning: Geometry is in a geographic CRS. Results from 'area' are likely incorrect. Use 'GeoSeries.to_crs()' to re-project geometries to a projected CRS before this operation.\n",
      "\n",
      "  intersections['intersection_area'] = intersections.geometry.area\n"
     ]
    },
    {
     "name": "stdout",
     "output_type": "stream",
     "text": [
      "Full dataset saved to C:\\Users\\vgald\\OneDrive\\Desktop\\SAR_DATA\\3. Output\\GDP\\gdp_by_admin1_full_2022.csv\n",
      "Aggregated dataset saved to C:\\Users\\vgald\\OneDrive\\Desktop\\SAR_DATA\\3. Output\\GDP\\gdp_by_admin1_aggregated_2022.csv\n"
     ]
    }
   ],
   "source": [
    "import rasterio\n",
    "import geopandas as gpd\n",
    "import numpy as np\n",
    "import pandas as pd\n",
    "from shapely.geometry import box\n",
    "\n",
    "# File paths (adjust path)\n",
    "raster_path = r\"C:\\Users\\vgald\\OneDrive\\Desktop\\SAR_DATA\\1. Data\\GDP\\rast_gdpTot_1990_2022_5arcmin.tif\"\n",
    "shapefile_path = r\"C:\\Users\\vgald\\OneDrive\\Desktop\\SAR_DATA\\1. Data\\Shapefile\\WB_GAD\\WB_GAD_ADM1_SAR_Clean.shp\"\n",
    "\n",
    "# Load shapefile\n",
    "shp_df = gpd.read_file(shapefile_path)\n",
    "shp_df = shp_df.to_crs(\"EPSG:4326\")  # Ensure it's in WGS84\n",
    "\n",
    "# Years to process\n",
    "years = ['2010', '2011', '2012', '2013', '2014', '2015',\n",
    "         '2016', '2017', '2018', '2019', '2020', '2021', '2022']\n",
    "\n",
    "# Convert raster band to polygons with GDP and cell area\n",
    "def raster_to_polygons(src, data, transform):\n",
    "    polygons = []\n",
    "    values = []\n",
    "    areas = []\n",
    "    height, width = data.shape\n",
    "    res_x, res_y = src.res\n",
    "    for row in range(height):\n",
    "        for col in range(width):\n",
    "            val = data[row, col]\n",
    "            if not np.ma.is_masked(val):\n",
    "                x, y = transform * (col, row)\n",
    "                poly = box(x, y - res_y, x + res_x, y)\n",
    "                polygons.append(poly)\n",
    "                values.append(val)\n",
    "                areas.append(poly.area)\n",
    "    return gpd.GeoDataFrame({'gdp': values, 'cell_area': areas, 'geometry': polygons}, crs=src.crs)\n",
    "\n",
    "# Loop over years\n",
    "for year in years:\n",
    "    with rasterio.open(raster_path) as src:\n",
    "        band_idx = int(year) - 1990 + 1  # Assume band 1 is 1990, band 2 is 1991, etc.\n",
    "        print(f\"Processing year {year} (Band {band_idx})...\")\n",
    "\n",
    "        gdp_band = src.read(band_idx, masked=True)\n",
    "        transform = src.transform\n",
    "\n",
    "        # Convert raster to vector grid with GDP and area\n",
    "        gdf_raster = raster_to_polygons(src, gdp_band, transform)\n",
    "\n",
    "        # Intersect GDP grid with ADM1 polygons\n",
    "        intersections = gpd.overlay(gdf_raster, shp_df, how='intersection')\n",
    "\n",
    "        # Compute overlap area and scale GDP\n",
    "        intersections['intersection_area'] = intersections.geometry.area\n",
    "        intersections['gdp_weighted'] = (\n",
    "            intersections['gdp'] * (intersections['intersection_area'] / intersections['cell_area'])\n",
    "        )\n",
    "\n",
    "        # Aggregate total GDP per ADM1 unit\n",
    "        grouped = intersections.groupby('globalid').agg({\n",
    "            'gdp_weighted': 'sum'\n",
    "        }).reset_index().rename(columns={'gdp_weighted': 'total_gdp'})\n",
    "        grouped['total_gdp'] = grouped['total_gdp'] / 1e6  # Convert to millions\n",
    "        grouped['year'] = year\n",
    "        grouped['geo_level'] = 1\n",
    "\n",
    "        # Merge back with ADM1 attributes\n",
    "        merged_df = shp_df.merge(grouped, on='globalid', how='left')\n",
    "        merged_df = merged_df.drop(columns=['geometry'], errors='ignore')\n",
    "\n",
    "        # Save full data\n",
    "        output_csv_full = rf\"C:\\Users\\vgald\\OneDrive\\Desktop\\SAR_DATA\\3. Output\\GDP\\gdp_by_admin1_full_{year}.csv\"\n",
    "        merged_df.to_csv(output_csv_full, index=False)\n",
    "        print(f\"Full dataset saved to {output_csv_full}\")\n",
    "\n",
    "        # Aggregate by L1_CODE\n",
    "        output_csv_agg = rf\"C:\\Users\\vgald\\OneDrive\\Desktop\\SAR_DATA\\3. Output\\GDP\\gdp_by_admin1_aggregated_{year}.csv\"\n",
    "        agg_df = merged_df.groupby(['L1_CODE']).agg({\n",
    "            'L0_CODE': 'first',\n",
    "            'L0_NAME': 'first',\n",
    "            'L1_NAME': 'first',\n",
    "            'total_gdp': 'sum',\n",
    "            'geo_level': 'first',\n",
    "            'wb_status': 'first',\n",
    "            'sovereign': 'first',\n",
    "            'Disputed': 'first',\n",
    "            'year': 'first'\n",
    "        }).reset_index()\n",
    "        agg_df.to_csv(output_csv_agg, index=False)\n",
    "        print(f\"Aggregated dataset saved to {output_csv_agg}\")\n"
   ]
  },
  {
   "cell_type": "code",
   "execution_count": 9,
   "id": "664c05a4",
   "metadata": {},
   "outputs": [
    {
     "name": "stdout",
     "output_type": "stream",
     "text": [
      "Processing year 2010 (Band 21)...\n"
     ]
    },
    {
     "name": "stderr",
     "output_type": "stream",
     "text": [
      "C:\\Users\\vgald\\AppData\\Local\\Temp\\ipykernel_5604\\3809451642.py:53: UserWarning: Geometry is in a geographic CRS. Results from 'area' are likely incorrect. Use 'GeoSeries.to_crs()' to re-project geometries to a projected CRS before this operation.\n",
      "\n",
      "  intersections['intersection_area'] = intersections.geometry.area\n"
     ]
    },
    {
     "name": "stdout",
     "output_type": "stream",
     "text": [
      "Full dataset saved to C:\\Users\\vgald\\OneDrive\\Desktop\\SAR_DATA\\3. Output\\GDP\\gdp_by_admin2_full_2010.csv\n",
      "Aggregated dataset saved to C:\\Users\\vgald\\OneDrive\\Desktop\\SAR_DATA\\3. Output\\GDP\\gdp_by_admin2_aggregated_2010.csv\n",
      "Processing year 2011 (Band 22)...\n"
     ]
    },
    {
     "name": "stderr",
     "output_type": "stream",
     "text": [
      "C:\\Users\\vgald\\AppData\\Local\\Temp\\ipykernel_5604\\3809451642.py:53: UserWarning: Geometry is in a geographic CRS. Results from 'area' are likely incorrect. Use 'GeoSeries.to_crs()' to re-project geometries to a projected CRS before this operation.\n",
      "\n",
      "  intersections['intersection_area'] = intersections.geometry.area\n"
     ]
    },
    {
     "name": "stdout",
     "output_type": "stream",
     "text": [
      "Full dataset saved to C:\\Users\\vgald\\OneDrive\\Desktop\\SAR_DATA\\3. Output\\GDP\\gdp_by_admin2_full_2011.csv\n",
      "Aggregated dataset saved to C:\\Users\\vgald\\OneDrive\\Desktop\\SAR_DATA\\3. Output\\GDP\\gdp_by_admin2_aggregated_2011.csv\n",
      "Processing year 2012 (Band 23)...\n"
     ]
    },
    {
     "name": "stderr",
     "output_type": "stream",
     "text": [
      "C:\\Users\\vgald\\AppData\\Local\\Temp\\ipykernel_5604\\3809451642.py:53: UserWarning: Geometry is in a geographic CRS. Results from 'area' are likely incorrect. Use 'GeoSeries.to_crs()' to re-project geometries to a projected CRS before this operation.\n",
      "\n",
      "  intersections['intersection_area'] = intersections.geometry.area\n"
     ]
    },
    {
     "name": "stdout",
     "output_type": "stream",
     "text": [
      "Full dataset saved to C:\\Users\\vgald\\OneDrive\\Desktop\\SAR_DATA\\3. Output\\GDP\\gdp_by_admin2_full_2012.csv\n",
      "Aggregated dataset saved to C:\\Users\\vgald\\OneDrive\\Desktop\\SAR_DATA\\3. Output\\GDP\\gdp_by_admin2_aggregated_2012.csv\n",
      "Processing year 2013 (Band 24)...\n"
     ]
    },
    {
     "name": "stderr",
     "output_type": "stream",
     "text": [
      "C:\\Users\\vgald\\AppData\\Local\\Temp\\ipykernel_5604\\3809451642.py:53: UserWarning: Geometry is in a geographic CRS. Results from 'area' are likely incorrect. Use 'GeoSeries.to_crs()' to re-project geometries to a projected CRS before this operation.\n",
      "\n",
      "  intersections['intersection_area'] = intersections.geometry.area\n"
     ]
    },
    {
     "name": "stdout",
     "output_type": "stream",
     "text": [
      "Full dataset saved to C:\\Users\\vgald\\OneDrive\\Desktop\\SAR_DATA\\3. Output\\GDP\\gdp_by_admin2_full_2013.csv\n",
      "Aggregated dataset saved to C:\\Users\\vgald\\OneDrive\\Desktop\\SAR_DATA\\3. Output\\GDP\\gdp_by_admin2_aggregated_2013.csv\n",
      "Processing year 2014 (Band 25)...\n"
     ]
    },
    {
     "name": "stderr",
     "output_type": "stream",
     "text": [
      "C:\\Users\\vgald\\AppData\\Local\\Temp\\ipykernel_5604\\3809451642.py:53: UserWarning: Geometry is in a geographic CRS. Results from 'area' are likely incorrect. Use 'GeoSeries.to_crs()' to re-project geometries to a projected CRS before this operation.\n",
      "\n",
      "  intersections['intersection_area'] = intersections.geometry.area\n"
     ]
    },
    {
     "name": "stdout",
     "output_type": "stream",
     "text": [
      "Full dataset saved to C:\\Users\\vgald\\OneDrive\\Desktop\\SAR_DATA\\3. Output\\GDP\\gdp_by_admin2_full_2014.csv\n",
      "Aggregated dataset saved to C:\\Users\\vgald\\OneDrive\\Desktop\\SAR_DATA\\3. Output\\GDP\\gdp_by_admin2_aggregated_2014.csv\n",
      "Processing year 2015 (Band 26)...\n"
     ]
    },
    {
     "name": "stderr",
     "output_type": "stream",
     "text": [
      "C:\\Users\\vgald\\AppData\\Local\\Temp\\ipykernel_5604\\3809451642.py:53: UserWarning: Geometry is in a geographic CRS. Results from 'area' are likely incorrect. Use 'GeoSeries.to_crs()' to re-project geometries to a projected CRS before this operation.\n",
      "\n",
      "  intersections['intersection_area'] = intersections.geometry.area\n"
     ]
    },
    {
     "name": "stdout",
     "output_type": "stream",
     "text": [
      "Full dataset saved to C:\\Users\\vgald\\OneDrive\\Desktop\\SAR_DATA\\3. Output\\GDP\\gdp_by_admin2_full_2015.csv\n",
      "Aggregated dataset saved to C:\\Users\\vgald\\OneDrive\\Desktop\\SAR_DATA\\3. Output\\GDP\\gdp_by_admin2_aggregated_2015.csv\n",
      "Processing year 2016 (Band 27)...\n"
     ]
    },
    {
     "name": "stderr",
     "output_type": "stream",
     "text": [
      "C:\\Users\\vgald\\AppData\\Local\\Temp\\ipykernel_5604\\3809451642.py:53: UserWarning: Geometry is in a geographic CRS. Results from 'area' are likely incorrect. Use 'GeoSeries.to_crs()' to re-project geometries to a projected CRS before this operation.\n",
      "\n",
      "  intersections['intersection_area'] = intersections.geometry.area\n"
     ]
    },
    {
     "name": "stdout",
     "output_type": "stream",
     "text": [
      "Full dataset saved to C:\\Users\\vgald\\OneDrive\\Desktop\\SAR_DATA\\3. Output\\GDP\\gdp_by_admin2_full_2016.csv\n",
      "Aggregated dataset saved to C:\\Users\\vgald\\OneDrive\\Desktop\\SAR_DATA\\3. Output\\GDP\\gdp_by_admin2_aggregated_2016.csv\n",
      "Processing year 2017 (Band 28)...\n"
     ]
    },
    {
     "name": "stderr",
     "output_type": "stream",
     "text": [
      "C:\\Users\\vgald\\AppData\\Local\\Temp\\ipykernel_5604\\3809451642.py:53: UserWarning: Geometry is in a geographic CRS. Results from 'area' are likely incorrect. Use 'GeoSeries.to_crs()' to re-project geometries to a projected CRS before this operation.\n",
      "\n",
      "  intersections['intersection_area'] = intersections.geometry.area\n"
     ]
    },
    {
     "name": "stdout",
     "output_type": "stream",
     "text": [
      "Full dataset saved to C:\\Users\\vgald\\OneDrive\\Desktop\\SAR_DATA\\3. Output\\GDP\\gdp_by_admin2_full_2017.csv\n",
      "Aggregated dataset saved to C:\\Users\\vgald\\OneDrive\\Desktop\\SAR_DATA\\3. Output\\GDP\\gdp_by_admin2_aggregated_2017.csv\n",
      "Processing year 2018 (Band 29)...\n"
     ]
    },
    {
     "name": "stderr",
     "output_type": "stream",
     "text": [
      "C:\\Users\\vgald\\AppData\\Local\\Temp\\ipykernel_5604\\3809451642.py:53: UserWarning: Geometry is in a geographic CRS. Results from 'area' are likely incorrect. Use 'GeoSeries.to_crs()' to re-project geometries to a projected CRS before this operation.\n",
      "\n",
      "  intersections['intersection_area'] = intersections.geometry.area\n"
     ]
    },
    {
     "name": "stdout",
     "output_type": "stream",
     "text": [
      "Full dataset saved to C:\\Users\\vgald\\OneDrive\\Desktop\\SAR_DATA\\3. Output\\GDP\\gdp_by_admin2_full_2018.csv\n",
      "Aggregated dataset saved to C:\\Users\\vgald\\OneDrive\\Desktop\\SAR_DATA\\3. Output\\GDP\\gdp_by_admin2_aggregated_2018.csv\n",
      "Processing year 2019 (Band 30)...\n"
     ]
    },
    {
     "name": "stderr",
     "output_type": "stream",
     "text": [
      "C:\\Users\\vgald\\AppData\\Local\\Temp\\ipykernel_5604\\3809451642.py:53: UserWarning: Geometry is in a geographic CRS. Results from 'area' are likely incorrect. Use 'GeoSeries.to_crs()' to re-project geometries to a projected CRS before this operation.\n",
      "\n",
      "  intersections['intersection_area'] = intersections.geometry.area\n"
     ]
    },
    {
     "name": "stdout",
     "output_type": "stream",
     "text": [
      "Full dataset saved to C:\\Users\\vgald\\OneDrive\\Desktop\\SAR_DATA\\3. Output\\GDP\\gdp_by_admin2_full_2019.csv\n",
      "Aggregated dataset saved to C:\\Users\\vgald\\OneDrive\\Desktop\\SAR_DATA\\3. Output\\GDP\\gdp_by_admin2_aggregated_2019.csv\n",
      "Processing year 2020 (Band 31)...\n"
     ]
    },
    {
     "name": "stderr",
     "output_type": "stream",
     "text": [
      "C:\\Users\\vgald\\AppData\\Local\\Temp\\ipykernel_5604\\3809451642.py:53: UserWarning: Geometry is in a geographic CRS. Results from 'area' are likely incorrect. Use 'GeoSeries.to_crs()' to re-project geometries to a projected CRS before this operation.\n",
      "\n",
      "  intersections['intersection_area'] = intersections.geometry.area\n"
     ]
    },
    {
     "name": "stdout",
     "output_type": "stream",
     "text": [
      "Full dataset saved to C:\\Users\\vgald\\OneDrive\\Desktop\\SAR_DATA\\3. Output\\GDP\\gdp_by_admin2_full_2020.csv\n",
      "Aggregated dataset saved to C:\\Users\\vgald\\OneDrive\\Desktop\\SAR_DATA\\3. Output\\GDP\\gdp_by_admin2_aggregated_2020.csv\n",
      "Processing year 2021 (Band 32)...\n"
     ]
    },
    {
     "name": "stderr",
     "output_type": "stream",
     "text": [
      "C:\\Users\\vgald\\AppData\\Local\\Temp\\ipykernel_5604\\3809451642.py:53: UserWarning: Geometry is in a geographic CRS. Results from 'area' are likely incorrect. Use 'GeoSeries.to_crs()' to re-project geometries to a projected CRS before this operation.\n",
      "\n",
      "  intersections['intersection_area'] = intersections.geometry.area\n"
     ]
    },
    {
     "name": "stdout",
     "output_type": "stream",
     "text": [
      "Full dataset saved to C:\\Users\\vgald\\OneDrive\\Desktop\\SAR_DATA\\3. Output\\GDP\\gdp_by_admin2_full_2021.csv\n",
      "Aggregated dataset saved to C:\\Users\\vgald\\OneDrive\\Desktop\\SAR_DATA\\3. Output\\GDP\\gdp_by_admin2_aggregated_2021.csv\n",
      "Processing year 2022 (Band 33)...\n"
     ]
    },
    {
     "name": "stderr",
     "output_type": "stream",
     "text": [
      "C:\\Users\\vgald\\AppData\\Local\\Temp\\ipykernel_5604\\3809451642.py:53: UserWarning: Geometry is in a geographic CRS. Results from 'area' are likely incorrect. Use 'GeoSeries.to_crs()' to re-project geometries to a projected CRS before this operation.\n",
      "\n",
      "  intersections['intersection_area'] = intersections.geometry.area\n"
     ]
    },
    {
     "name": "stdout",
     "output_type": "stream",
     "text": [
      "Full dataset saved to C:\\Users\\vgald\\OneDrive\\Desktop\\SAR_DATA\\3. Output\\GDP\\gdp_by_admin2_full_2022.csv\n",
      "Aggregated dataset saved to C:\\Users\\vgald\\OneDrive\\Desktop\\SAR_DATA\\3. Output\\GDP\\gdp_by_admin2_aggregated_2022.csv\n"
     ]
    }
   ],
   "source": [
    "import rasterio\n",
    "import geopandas as gpd\n",
    "import numpy as np\n",
    "import pandas as pd\n",
    "from shapely.geometry import box\n",
    "\n",
    "# File paths   (adjust path)\n",
    "raster_path = r\"C:\\Users\\vgald\\OneDrive\\Desktop\\SAR_DATA\\1. Data\\GDP\\rast_gdpTot_1990_2022_5arcmin.tif\"\n",
    "shapefile_path = r\"C:\\Users\\vgald\\OneDrive\\Desktop\\SAR_DATA\\1. Data\\Shapefile\\WB_GAD\\WB_GAD_ADM2_SAR_Clean.shp\"\n",
    "\n",
    "# Load ADM2 shapefile\n",
    "shp_df = gpd.read_file(shapefile_path)\n",
    "shp_df = shp_df.to_crs(\"EPSG:4326\")\n",
    "\n",
    "# Define years to process\n",
    "years = ['2010', '2011', '2012', '2013', '2014', '2015',\n",
    "         '2016', '2017', '2018', '2019', '2020', '2021', '2022']\n",
    "\n",
    "# Convert raster band to polygons with GDP and cell area\n",
    "def raster_to_polygons(src, data, transform):\n",
    "    polygons = []\n",
    "    values = []\n",
    "    areas = []\n",
    "    height, width = data.shape\n",
    "    res_x, res_y = src.res\n",
    "    for row in range(height):\n",
    "        for col in range(width):\n",
    "            val = data[row, col]\n",
    "            if not np.ma.is_masked(val):\n",
    "                x, y = transform * (col, row)\n",
    "                poly = box(x, y - res_y, x + res_x, y)\n",
    "                polygons.append(poly)\n",
    "                values.append(val)\n",
    "                areas.append(poly.area)\n",
    "    return gpd.GeoDataFrame({'gdp': values, 'cell_area': areas, 'geometry': polygons}, crs=src.crs)\n",
    "\n",
    "# Loop over years\n",
    "for year in years:\n",
    "    with rasterio.open(raster_path) as src:\n",
    "        band_idx = int(year) - 1990 + 1  # Band 1 = 1990\n",
    "        print(f\"Processing year {year} (Band {band_idx})...\")\n",
    "\n",
    "        gdp_band = src.read(band_idx, masked=True)\n",
    "        transform = src.transform\n",
    "\n",
    "        # Convert raster cells to polygons with cell area\n",
    "        gdf_raster = raster_to_polygons(src, gdp_band, transform)\n",
    "\n",
    "        # Intersect with ADM2 polygons\n",
    "        intersections = gpd.overlay(gdf_raster, shp_df, how='intersection')\n",
    "\n",
    "        # Compute GDP weighted by share of cell\n",
    "        intersections['intersection_area'] = intersections.geometry.area\n",
    "        intersections['gdp_weighted'] = (\n",
    "            intersections['gdp'] * (intersections['intersection_area'] / intersections['cell_area'])\n",
    "        )\n",
    "\n",
    "        # Aggregate GDP per ADM2 polygon\n",
    "        grouped = intersections.groupby('globalid').agg({\n",
    "            'gdp_weighted': 'sum'\n",
    "        }).reset_index().rename(columns={'gdp_weighted': 'total_gdp'})\n",
    "        grouped['total_gdp'] = grouped['total_gdp'] / 1e6  # Millions\n",
    "        grouped['year'] = year\n",
    "        grouped['geo_level'] = 2\n",
    "\n",
    "        # Merge with ADM2 shapefile attributes\n",
    "        merged_df = shp_df.merge(grouped, on='globalid', how='left')\n",
    "        merged_df = merged_df.drop(columns=['geometry'], errors='ignore')\n",
    "\n",
    "        # Save full output (one row per ADM2 polygon)\n",
    "        output_csv_full = rf\"C:\\Users\\vgald\\OneDrive\\Desktop\\SAR_DATA\\3. Output\\GDP\\gdp_by_admin2_full_{year}.csv\"\n",
    "        merged_df.to_csv(output_csv_full, index=False)\n",
    "        print(f\"Full dataset saved to {output_csv_full}\")\n",
    "\n",
    "        # Aggregate by L2_CODE\n",
    "        output_csv_agg = rf\"C:\\Users\\vgald\\OneDrive\\Desktop\\SAR_DATA\\3. Output\\GDP\\gdp_by_admin2_aggregated_{year}.csv\"\n",
    "        agg_df = merged_df.groupby(['L2_CODE']).agg({\n",
    "            'L0_CODE': 'first',\n",
    "            'L0_NAME': 'first',\n",
    "            'L1_CODE': 'first',\n",
    "            'L1_NAME': 'first',\n",
    "            'L2_NAME': 'first',\n",
    "            'total_gdp': 'sum',\n",
    "            'geo_level': 'first',\n",
    "            'wb_status': 'first',\n",
    "            'sovereign': 'first',\n",
    "            'Disputed': 'first',\n",
    "            'year': 'first'\n",
    "        }).reset_index()\n",
    "\n",
    "        agg_df.to_csv(output_csv_agg, index=False)\n",
    "        print(f\"Aggregated dataset saved to {output_csv_agg}\")\n"
   ]
  },
  {
   "cell_type": "code",
   "execution_count": null,
   "id": "cc92c8f6",
   "metadata": {},
   "outputs": [],
   "source": []
  }
 ],
 "metadata": {
  "kernelspec": {
   "display_name": "Python (env39-mkt)",
   "language": "python",
   "name": "env39"
  },
  "language_info": {
   "codemirror_mode": {
    "name": "ipython",
    "version": 3
   },
   "file_extension": ".py",
   "mimetype": "text/x-python",
   "name": "python",
   "nbconvert_exporter": "python",
   "pygments_lexer": "ipython3",
   "version": "3.9.21"
  }
 },
 "nbformat": 4,
 "nbformat_minor": 5
}
